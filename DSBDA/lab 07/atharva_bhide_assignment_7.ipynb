{
  "nbformat": 4,
  "nbformat_minor": 0,
  "metadata": {
    "colab": {
      "provenance": []
    },
    "kernelspec": {
      "name": "python3",
      "display_name": "Python 3"
    },
    "language_info": {
      "name": "python"
    }
  },
  "cells": [
    {
      "cell_type": "code",
      "execution_count": 1,
      "metadata": {
        "colab": {
          "base_uri": "https://localhost:8080/"
        },
        "id": "L6MBlmTmtXvS",
        "outputId": "55851e0a-5e78-4f2f-a038-582177f70ae3"
      },
      "outputs": [
        {
          "output_type": "stream",
          "name": "stderr",
          "text": [
            "[nltk_data] Downloading package punkt to /root/nltk_data...\n",
            "[nltk_data]   Unzipping tokenizers/punkt.zip.\n",
            "[nltk_data] Downloading package stopwords to /root/nltk_data...\n",
            "[nltk_data]   Unzipping corpora/stopwords.zip.\n",
            "[nltk_data] Downloading package wordnet to /root/nltk_data...\n",
            "[nltk_data] Downloading package averaged_perceptron_tagger to\n",
            "[nltk_data]     /root/nltk_data...\n",
            "[nltk_data]   Unzipping taggers/averaged_perceptron_tagger.zip.\n"
          ]
        },
        {
          "output_type": "execute_result",
          "data": {
            "text/plain": [
              "True"
            ]
          },
          "metadata": {},
          "execution_count": 1
        }
      ],
      "source": [
        "import nltk\n",
        "nltk.download(\"punkt\")\n",
        "nltk.download(\"stopwords\")\n",
        "nltk.download(\"wordnet\")\n",
        "nltk.download(\"averaged_perceptron_tagger\")"
      ]
    },
    {
      "cell_type": "markdown",
      "source": [
        "# Tokenization"
      ],
      "metadata": {
        "id": "mqifWtX10SEO"
      }
    },
    {
      "cell_type": "code",
      "source": [
        "from nltk import word_tokenize, sent_tokenize"
      ],
      "metadata": {
        "id": "GqMdfjxg0fCl"
      },
      "execution_count": 3,
      "outputs": []
    },
    {
      "cell_type": "code",
      "source": [
        "corpus = \"Sachin was the GOAT of the previous generation. Virat is the GOAT of this generation. Shubman will be the GOAT of the next generation\""
      ],
      "metadata": {
        "id": "lqQuKfyf0T_h"
      },
      "execution_count": 21,
      "outputs": []
    },
    {
      "cell_type": "code",
      "source": [
        "print(word_tokenize(corpus))\n",
        "print(sent_tokenize(corpus))"
      ],
      "metadata": {
        "colab": {
          "base_uri": "https://localhost:8080/"
        },
        "id": "qygvks1B0lmO",
        "outputId": "61355537-c342-4b3f-8e5a-7e7c29a0ce3d"
      },
      "execution_count": 22,
      "outputs": [
        {
          "output_type": "stream",
          "name": "stdout",
          "text": [
            "['Sachin', 'was', 'the', 'GOAT', 'of', 'the', 'previous', 'generation', '.', 'Virat', 'is', 'the', 'GOAT', 'of', 'this', 'generation', '.', 'Shubman', 'will', 'be', 'the', 'GOAT', 'of', 'the', 'next', 'generation']\n",
            "['Sachin was the GOAT of the previous generation.', 'Virat is the GOAT of this generation.', 'Shubman will be the GOAT of the next generation']\n"
          ]
        }
      ]
    },
    {
      "cell_type": "markdown",
      "source": [
        "# POS tagging"
      ],
      "metadata": {
        "id": "EDWyjOif06Nt"
      }
    },
    {
      "cell_type": "code",
      "source": [
        "from nltk import pos_tag"
      ],
      "metadata": {
        "id": "sjrjZaOt07F8"
      },
      "execution_count": 23,
      "outputs": []
    },
    {
      "cell_type": "code",
      "source": [
        "tokens = word_tokenize(corpus)\n",
        "print(pos_tag(tokens))"
      ],
      "metadata": {
        "colab": {
          "base_uri": "https://localhost:8080/"
        },
        "id": "gG_Jm78o0-Ui",
        "outputId": "118898ef-0fef-496c-bbaa-c7c722f8caf0"
      },
      "execution_count": 24,
      "outputs": [
        {
          "output_type": "stream",
          "name": "stdout",
          "text": [
            "[('Sachin', 'NNP'), ('was', 'VBD'), ('the', 'DT'), ('GOAT', 'NNP'), ('of', 'IN'), ('the', 'DT'), ('previous', 'JJ'), ('generation', 'NN'), ('.', '.'), ('Virat', 'NNP'), ('is', 'VBZ'), ('the', 'DT'), ('GOAT', 'NNP'), ('of', 'IN'), ('this', 'DT'), ('generation', 'NN'), ('.', '.'), ('Shubman', 'NNP'), ('will', 'MD'), ('be', 'VB'), ('the', 'DT'), ('GOAT', 'NNP'), ('of', 'IN'), ('the', 'DT'), ('next', 'JJ'), ('generation', 'NN')]\n"
          ]
        }
      ]
    },
    {
      "cell_type": "markdown",
      "source": [
        "# Stop word removal"
      ],
      "metadata": {
        "id": "yg1AKO8k1K_i"
      }
    },
    {
      "cell_type": "code",
      "source": [
        "from nltk.corpus import stopwords\n",
        "stop_words = set(stopwords.words(\"english\"))"
      ],
      "metadata": {
        "id": "0jPJ1Lzo1PfW"
      },
      "execution_count": 25,
      "outputs": []
    },
    {
      "cell_type": "code",
      "source": [
        "tokens = word_tokenize(corpus)\n",
        "cleaned_tokens = []\n",
        "for token in tokens:\n",
        "  if (token not in stop_words):\n",
        "    cleaned_tokens.append(token)\n",
        "print(cleaned_tokens)"
      ],
      "metadata": {
        "colab": {
          "base_uri": "https://localhost:8080/"
        },
        "id": "wKO5yKaz1aqe",
        "outputId": "ff319b8b-11bb-4506-a69f-b688e4415669"
      },
      "execution_count": 26,
      "outputs": [
        {
          "output_type": "stream",
          "name": "stdout",
          "text": [
            "['Sachin', 'GOAT', 'previous', 'generation', '.', 'Virat', 'GOAT', 'generation', '.', 'Shubman', 'GOAT', 'next', 'generation']\n"
          ]
        }
      ]
    },
    {
      "cell_type": "markdown",
      "source": [
        "# Stemming"
      ],
      "metadata": {
        "id": "XoOJBXwg1u70"
      }
    },
    {
      "cell_type": "code",
      "source": [
        "from nltk.stem import PorterStemmer"
      ],
      "metadata": {
        "id": "agRU5bvH1wIo"
      },
      "execution_count": 27,
      "outputs": []
    },
    {
      "cell_type": "code",
      "source": [
        "stemmer = PorterStemmer()"
      ],
      "metadata": {
        "id": "XB23t5ni1yZe"
      },
      "execution_count": 28,
      "outputs": []
    },
    {
      "cell_type": "code",
      "source": [
        "stemmed_tokens = []\n",
        "for token in cleaned_tokens:\n",
        "  stemmed = stemmer.stem(token)\n",
        "  stemmed_tokens.append(stemmed)\n",
        "print(stemmed_tokens)"
      ],
      "metadata": {
        "colab": {
          "base_uri": "https://localhost:8080/"
        },
        "id": "R0SE0s-010bV",
        "outputId": "8568f843-d275-4d82-d6fc-998d3f01eb3b"
      },
      "execution_count": 29,
      "outputs": [
        {
          "output_type": "stream",
          "name": "stdout",
          "text": [
            "['sachin', 'goat', 'previou', 'gener', '.', 'virat', 'goat', 'gener', '.', 'shubman', 'goat', 'next', 'gener']\n"
          ]
        }
      ]
    },
    {
      "cell_type": "markdown",
      "source": [
        "# Lemmatization"
      ],
      "metadata": {
        "id": "PehRHjsc2JQa"
      }
    },
    {
      "cell_type": "code",
      "source": [
        "from nltk.stem import WordNetLemmatizer"
      ],
      "metadata": {
        "id": "XmsB1yGV2KaO"
      },
      "execution_count": 30,
      "outputs": []
    },
    {
      "cell_type": "code",
      "source": [
        "lemmatizer = WordNetLemmatizer()"
      ],
      "metadata": {
        "id": "lv7ul_kL2NkC"
      },
      "execution_count": 31,
      "outputs": []
    },
    {
      "cell_type": "code",
      "source": [
        "lemmatized_tokens = []\n",
        "for token in cleaned_tokens:\n",
        "  lemmatized = lemmatizer.lemmatize(token)\n",
        "  lemmatized_tokens.append(lemmatized)\n",
        "print(lemmatized_tokens)"
      ],
      "metadata": {
        "colab": {
          "base_uri": "https://localhost:8080/"
        },
        "id": "FonvIUEn2UB_",
        "outputId": "2362a60b-3ed6-417d-9ccf-de4b9a4033eb"
      },
      "execution_count": 32,
      "outputs": [
        {
          "output_type": "stream",
          "name": "stdout",
          "text": [
            "['Sachin', 'GOAT', 'previous', 'generation', '.', 'Virat', 'GOAT', 'generation', '.', 'Shubman', 'GOAT', 'next', 'generation']\n"
          ]
        }
      ]
    },
    {
      "cell_type": "markdown",
      "source": [
        "# TF-IDF"
      ],
      "metadata": {
        "id": "BrvioSJb27bT"
      }
    },
    {
      "cell_type": "code",
      "source": [
        "from sklearn.feature_extraction.text import TfidfVectorizer"
      ],
      "metadata": {
        "id": "325dpsja28x6"
      },
      "execution_count": 33,
      "outputs": []
    },
    {
      "cell_type": "code",
      "source": [
        "corpus = [\n",
        "    \"Sachin was the GOAT of the previous generation\",\n",
        "    \"Virat is the GOAT of the this generation\",\n",
        "    \"Shubman will be the GOAT of the next generation\"\n",
        "]"
      ],
      "metadata": {
        "id": "LIYw4KiA3AJd"
      },
      "execution_count": 34,
      "outputs": []
    },
    {
      "cell_type": "code",
      "source": [
        "vectorizer = TfidfVectorizer()"
      ],
      "metadata": {
        "id": "pHytm3jz3UHl"
      },
      "execution_count": 35,
      "outputs": []
    },
    {
      "cell_type": "code",
      "source": [
        "matrix = vectorizer.fit(corpus)\n",
        "matrix.vocabulary_"
      ],
      "metadata": {
        "colab": {
          "base_uri": "https://localhost:8080/"
        },
        "id": "OtImdtCv3XAe",
        "outputId": "3404ca2d-71f2-45de-ffcf-3cfe2df464b3"
      },
      "execution_count": 39,
      "outputs": [
        {
          "output_type": "execute_result",
          "data": {
            "text/plain": [
              "{'sachin': 7,\n",
              " 'was': 12,\n",
              " 'the': 9,\n",
              " 'goat': 2,\n",
              " 'of': 5,\n",
              " 'previous': 6,\n",
              " 'generation': 1,\n",
              " 'virat': 11,\n",
              " 'is': 3,\n",
              " 'this': 10,\n",
              " 'shubman': 8,\n",
              " 'will': 13,\n",
              " 'be': 0,\n",
              " 'next': 4}"
            ]
          },
          "metadata": {},
          "execution_count": 39
        }
      ]
    },
    {
      "cell_type": "code",
      "source": [
        "tfidf_matrix = vectorizer.transform(corpus)\n",
        "print(tfidf_matrix)"
      ],
      "metadata": {
        "colab": {
          "base_uri": "https://localhost:8080/"
        },
        "id": "-Bi16YX03d1z",
        "outputId": "93517711-fcfc-4350-ce01-5ecc7c45d881"
      },
      "execution_count": 41,
      "outputs": [
        {
          "output_type": "stream",
          "name": "stdout",
          "text": [
            "  (0, 12)\t0.4286758743128819\n",
            "  (0, 9)\t0.5063657539459899\n",
            "  (0, 7)\t0.4286758743128819\n",
            "  (0, 6)\t0.4286758743128819\n",
            "  (0, 5)\t0.25318287697299496\n",
            "  (0, 2)\t0.25318287697299496\n",
            "  (0, 1)\t0.25318287697299496\n",
            "  (1, 11)\t0.4286758743128819\n",
            "  (1, 10)\t0.4286758743128819\n",
            "  (1, 9)\t0.5063657539459899\n",
            "  (1, 5)\t0.25318287697299496\n",
            "  (1, 3)\t0.4286758743128819\n",
            "  (1, 2)\t0.25318287697299496\n",
            "  (1, 1)\t0.25318287697299496\n",
            "  (2, 13)\t0.39400039808922477\n",
            "  (2, 9)\t0.4654059642457353\n",
            "  (2, 8)\t0.39400039808922477\n",
            "  (2, 5)\t0.23270298212286766\n",
            "  (2, 4)\t0.39400039808922477\n",
            "  (2, 2)\t0.23270298212286766\n",
            "  (2, 1)\t0.23270298212286766\n",
            "  (2, 0)\t0.39400039808922477\n"
          ]
        }
      ]
    },
    {
      "cell_type": "code",
      "source": [
        "print(vectorizer.get_feature_names_out())"
      ],
      "metadata": {
        "colab": {
          "base_uri": "https://localhost:8080/"
        },
        "id": "kPymVOOK3yAJ",
        "outputId": "d7d68e64-0903-45f2-e6d3-fb6a70303635"
      },
      "execution_count": 42,
      "outputs": [
        {
          "output_type": "stream",
          "name": "stdout",
          "text": [
            "['be' 'generation' 'goat' 'is' 'next' 'of' 'previous' 'sachin' 'shubman'\n",
            " 'the' 'this' 'virat' 'was' 'will']\n"
          ]
        }
      ]
    }
  ]
}